{
 "cells": [
  {
   "cell_type": "markdown",
   "metadata": {},
   "source": [
    "<img src=\"https://bit.ly/2VnXWr2\" width=\"100\" align=\"left\"/>"
   ]
  },
  {
   "cell_type": "markdown",
   "metadata": {},
   "source": [
    "# Robin Hood\n",
    "Robin Hood has entered a competition to win the archery contest in Sherwood. With his bow and arrows, he needs to shoot on a target and try to hit as close as possible to the center.\n",
    "\n",
    "![](images/arrows.jpg)\n",
    "\n",
    "## Context\n",
    "In this challenge, the landing position of arrows shot by archers in the competition will be represented using 2-dimensional coordinates. \n",
    "\n",
    "In the 2-dimensional space, a point can be defined by a pair of values that correspond to the horizontal coordinate (x) and the vertical coordinate (y). For example, in our case, an arrow that hits the center of the archery target will land in position (0, 0) on the coordinate axes. \n",
    "\n",
    "The space can be divided into 4 zones (quadrants): Q1, Q2, Q3, Q4. If a point is in Q1, both its x coordinate and y coordinate are positive. Any point with a null x or y coordinate is considered to not belong to any quadrant. \n",
    "\n",
    "If you want to know more about the cartesian coordinate system, you can check this [link](https://en.wikipedia.org/wiki/Cartesian_coordinate_system). \n",
    "\n",
    "## Tools\n",
    "You don't necessarily need to use all the tools. Maybe you opt to use some of them or completely different ones, they are given to help you shape the exercise. Programming exercises can be solved in many different ways.\n",
    "* Data structures: **lists, sets, tuples**\n",
    "* Conditional statements: **if-elif-else**\n",
    "* Loop: **while/for**\n",
    "* Minimum (optional sorting)\n",
    "\n",
    "## Tasks\n",
    "Robin Hood has hit the following points:"
   ]
  },
  {
   "cell_type": "code",
   "execution_count": 1,
   "metadata": {},
   "outputs": [],
   "source": [
    "points = [(4, 5), (-0, 2), (4, 7), (1, -3), (3, -2), (4, 5), (3, 2), (5, 7), (-5, 7), (2, 2), (-4, 5), (0, -2),\n",
    "          (-4, 7), (-1, 3), (-3, 2), (-4, -5), (-3, 2), (5, 7), (5, 7), (2, 2), (9, 9), (-8, -9)]"
   ]
  },
  {
   "cell_type": "markdown",
   "metadata": {},
   "source": [
    "#### 1. Robin Hood is famous for hitting an arrow with another arrow. Find the coordinates of the points where an arrow hits another arrow."
   ]
  },
  {
   "cell_type": "code",
   "execution_count": 2,
   "metadata": {},
   "outputs": [
    {
     "data": {
      "text/plain": [
       "22"
      ]
     },
     "execution_count": 2,
     "metadata": {},
     "output_type": "execute_result"
    }
   ],
   "source": [
    "points\n",
    "len(points)\n"
   ]
  },
  {
   "cell_type": "markdown",
   "metadata": {},
   "source": [
    "#### 2. Calculate how many arrows have fallen in each quadrant. \n",
    "**Note**: the arrows that fall in the axis (x=0 or y=0) don't belong to any quadrant."
   ]
  },
  {
   "cell_type": "code",
   "execution_count": 3,
   "metadata": {},
   "outputs": [
    {
     "name": "stdout",
     "output_type": "stream",
     "text": [
      "[(4, 5)]\n",
      "[(0, 2)]\n",
      "[(4, 5), (4, 7)]\n",
      "[(0, 2), (1, -3)]\n",
      "[(0, 2), (1, -3), (3, -2)]\n",
      "[(4, 5), (4, 7), (4, 5)]\n",
      "[(4, 5), (4, 7), (4, 5), (3, 2)]\n",
      "[(4, 5), (4, 7), (4, 5), (3, 2), (5, 7)]\n",
      "[(-5, 7)]\n",
      "[(4, 5), (4, 7), (4, 5), (3, 2), (5, 7), (2, 2)]\n",
      "[(-5, 7), (-4, 5)]\n",
      "[(0, 2), (1, -3), (3, -2), (0, -2)]\n",
      "[(-5, 7), (-4, 5), (-4, 7)]\n",
      "[(-5, 7), (-4, 5), (-4, 7), (-1, 3)]\n",
      "[(-5, 7), (-4, 5), (-4, 7), (-1, 3), (-3, 2)]\n",
      "[(-4, -5)]\n",
      "[(-5, 7), (-4, 5), (-4, 7), (-1, 3), (-3, 2), (-3, 2)]\n",
      "[(4, 5), (4, 7), (4, 5), (3, 2), (5, 7), (2, 2), (5, 7)]\n",
      "[(4, 5), (4, 7), (4, 5), (3, 2), (5, 7), (2, 2), (5, 7), (5, 7)]\n",
      "[(4, 5), (4, 7), (4, 5), (3, 2), (5, 7), (2, 2), (5, 7), (5, 7), (2, 2)]\n",
      "[(4, 5), (4, 7), (4, 5), (3, 2), (5, 7), (2, 2), (5, 7), (5, 7), (2, 2), (9, 9)]\n",
      "[(-4, -5), (-8, -9)]\n",
      "There are  10 arrows fallen in Q1.\n",
      "There are  6 arrows fallen in Q2.\n",
      "There are  2 arrows fallen in Q3.\n",
      "There are  4 arrows fallen in Q4.\n"
     ]
    }
   ],
   "source": [
    "Q1 = []\n",
    "Q2 = []\n",
    "Q3 = []\n",
    "Q4 = []\n",
    "x = 0\n",
    "y = 0\n",
    "\n",
    "for (x,y) in points:\n",
    "    if (x > 0 and y > 0): \n",
    "        Q1.append((x,y))\n",
    "        print(Q1)\n",
    "    elif (x < 0 and y > 0):\n",
    "        Q2.append((x,y))\n",
    "        print(Q2)\n",
    "    elif (x < 0 and y < 0):\n",
    "        Q3.append((x,y))\n",
    "        print(Q3)\n",
    "    else:\n",
    "        (x > 0 and y < 0)\n",
    "        Q4.append((x,y))\n",
    "        print(Q4)\n",
    "\n",
    "print(f'There are  {len(Q1)} arrows fallen in Q1.') \n",
    "print(f'There are  {len(Q2)} arrows fallen in Q2.')     \n",
    "print(f'There are  {len(Q3)} arrows fallen in Q3.')  \n",
    "print(f'There are  {len(Q4)} arrows fallen in Q4.') "
   ]
  },
  {
   "cell_type": "markdown",
   "metadata": {},
   "source": [
    "#### 3. Find the point closest to the center. Calculate its distance to the center. \n",
    "Take into account that there might be more than one point at the minimum distance to the center.\n",
    "\n",
    "**Hint**: Use the Euclidean distance. You can find more information about it [here](https://en.wikipedia.org/wiki/Euclidean_distance).  \n",
    "**Hint**: Defining a function that calculates the distance to the center can help."
   ]
  },
  {
   "cell_type": "code",
   "execution_count": 18,
   "metadata": {},
   "outputs": [
    {
     "name": "stdout",
     "output_type": "stream",
     "text": [
      "[6]\n",
      "[6, 2]\n",
      "[6, 2, 8]\n",
      "[6, 2, 8, 3]\n",
      "[6, 2, 8, 3, 4]\n",
      "[6, 2, 8, 3, 4, 6]\n",
      "[6, 2, 8, 3, 4, 6, 4]\n",
      "[6, 2, 8, 3, 4, 6, 4, 9]\n",
      "[6, 2, 8, 3, 4, 6, 4, 9, 9]\n",
      "[6, 2, 8, 3, 4, 6, 4, 9, 9, 3]\n",
      "[6, 2, 8, 3, 4, 6, 4, 9, 9, 3, 6]\n",
      "[6, 2, 8, 3, 4, 6, 4, 9, 9, 3, 6, 2]\n",
      "[6, 2, 8, 3, 4, 6, 4, 9, 9, 3, 6, 2, 8]\n",
      "[6, 2, 8, 3, 4, 6, 4, 9, 9, 3, 6, 2, 8, 3]\n",
      "[6, 2, 8, 3, 4, 6, 4, 9, 9, 3, 6, 2, 8, 3, 4]\n",
      "[6, 2, 8, 3, 4, 6, 4, 9, 9, 3, 6, 2, 8, 3, 4, 6]\n",
      "[6, 2, 8, 3, 4, 6, 4, 9, 9, 3, 6, 2, 8, 3, 4, 6, 4]\n",
      "[6, 2, 8, 3, 4, 6, 4, 9, 9, 3, 6, 2, 8, 3, 4, 6, 4, 9]\n",
      "[6, 2, 8, 3, 4, 6, 4, 9, 9, 3, 6, 2, 8, 3, 4, 6, 4, 9, 9]\n",
      "[6, 2, 8, 3, 4, 6, 4, 9, 9, 3, 6, 2, 8, 3, 4, 6, 4, 9, 9, 3]\n",
      "[6, 2, 8, 3, 4, 6, 4, 9, 9, 3, 6, 2, 8, 3, 4, 6, 4, 9, 9, 3, 13]\n",
      "[6, 2, 8, 3, 4, 6, 4, 9, 9, 3, 6, 2, 8, 3, 4, 6, 4, 9, 9, 3, 13, 12]\n",
      "closest distance from the center is 2\n",
      "[(4, 5), (0, 2)]\n"
     ]
    }
   ],
   "source": [
    "import math\n",
    "distance = []\n",
    "closest = []\n",
    "for i,j in points:\n",
    "    distance.append(round((i**2 + j**2)**0.5))\n",
    "    print(distance) \n",
    "print(f'closest distance from the center is {min(distance)}')\n",
    "count = 0\n",
    "for x in distance:\n",
    "    if x <= 2:\n",
    "        closest.append(points[count])\n",
    "        count += 1\n",
    "print(closest)"
   ]
  },
  {
   "cell_type": "markdown",
   "metadata": {},
   "source": [
    "#### 4. If the archery target has a radius of 9, calculate the number of arrows that won't hit the target. \n",
    "**Hint**: Use the function created in step 3. "
   ]
  },
  {
   "cell_type": "code",
   "execution_count": 12,
   "metadata": {},
   "outputs": [
    {
     "name": "stdout",
     "output_type": "stream",
     "text": [
      "[13, 12]\n"
     ]
    }
   ],
   "source": [
    "exceed_radius = []\n",
    "target = 0\n",
    "for k in distance:\n",
    "    if k > 9:\n",
    "        exceed_radius.append(distance[target])\n",
    "    target += 1\n",
    "print(exceed_radius)    \n",
    "       "
   ]
  },
  {
   "cell_type": "code",
   "execution_count": 15,
   "metadata": {},
   "outputs": [
    {
     "name": "stdout",
     "output_type": "stream",
     "text": [
      "Number of arrows that wont hit the target are 2\n"
     ]
    }
   ],
   "source": [
    "print(f'Number of arrows that wont hit the target are {len(exceed_radius)}')"
   ]
  },
  {
   "cell_type": "code",
   "execution_count": null,
   "metadata": {},
   "outputs": [],
   "source": []
  }
 ],
 "metadata": {
  "kernelspec": {
   "display_name": "Python 3",
   "language": "python",
   "name": "python3"
  },
  "language_info": {
   "codemirror_mode": {
    "name": "ipython",
    "version": 3
   },
   "file_extension": ".py",
   "mimetype": "text/x-python",
   "name": "python",
   "nbconvert_exporter": "python",
   "pygments_lexer": "ipython3",
   "version": "3.9.2"
  }
 },
 "nbformat": 4,
 "nbformat_minor": 2
}
